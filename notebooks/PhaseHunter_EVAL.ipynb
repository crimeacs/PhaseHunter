{
 "cells": [
  {
   "cell_type": "markdown",
   "id": "d383054b-bfd4-4182-b3f5-d3de4b725cd7",
   "metadata": {},
   "source": [
    "## Set-up"
   ]
  },
  {
   "cell_type": "code",
   "execution_count": 33,
   "id": "7f3907d3-e2fb-4d64-bfb4-93d1370e6ec3",
   "metadata": {},
   "outputs": [],
   "source": [
    "from PhaseHunter.model import PhaseHunter\n",
    "from PhaseHunter.dataloader import Augmentations, Waveforms_dataset\n",
    "\n",
    "import pandas as pd\n",
    "import numpy as np\n",
    "from torch.utils.data import DataLoader\n",
    "\n",
    "import torch\n",
    "from tqdm.auto import tqdm\n",
    "\n",
    "def make_predictions_phasehunter(model, test_loader, filename):\n",
    "    ## Create list to store results \n",
    "    test_results = []\n",
    "    \n",
    "    with torch.no_grad():\n",
    "        for sample in tqdm(test_loader):\n",
    "            waveform, p_true, s_true = sample\n",
    "    \n",
    "            ## For uncertainty estimation we need ot create a batch of copies\n",
    "            inference_sample = torch.stack([waveform.squeeze()]*128).cuda()\n",
    "    \n",
    "            ## Make predictions\n",
    "            preds, _ = model(inference_sample)\n",
    "    \n",
    "            p_pred = preds[:,0].cpu()\n",
    "            s_pred = preds[:,1].cpu()\n",
    "    \n",
    "            ## Using uncertainty get prediction with the highest probability\n",
    "            p_dist, p_kde, p_val, p_uncert = model.get_likely_val(p_pred)\n",
    "            s_dist, s_kde, s_val, s_uncert = model.get_likely_val(s_pred)\n",
    "    \n",
    "            ## Store results\n",
    "            test_results.append(pd.DataFrame({\n",
    "                'p_true' : [p_true.item()*30],     's_true' : [s_true.item()*30],\n",
    "                'p_pred' : [p_val.item()*30],      's_pred' : [s_val.item()*30],\n",
    "                'p_uncert' : [p_uncert.item()*30], 's_uncert' : [s_uncert.item()*30]\n",
    "            }))\n",
    "    \n",
    "    test_results_phasehunter = pd.concat(test_results).reset_index(drop=True)\n",
    "    test_results_phasehunter.to_csv(filename)\n",
    "\n",
    "def make_predictions_phasenet(model, test_loader, filename):\n",
    "    ## Create list to store results \n",
    "    test_results = []\n",
    "    \n",
    "    with torch.no_grad():\n",
    "        for sample in tqdm(test_loader):\n",
    "            waveform, p_true, s_true = sample\n",
    "    \n",
    "            p_pred_prob, s_pred_prob, noise_pred_prob = phasenet(waveform).squeeze().split(1, dim=0)\n",
    "    \n",
    "            # Get the predicted P and S arrival times\n",
    "            p_prob, p_predicted_index = torch.max(p_pred_prob, dim=1)\n",
    "            s_prob, s_predicted_index = torch.max(s_pred_prob, dim=1)\n",
    "    \n",
    "            ## Store results\n",
    "            test_results.append(pd.DataFrame({\n",
    "                'p_true' : [p_true.item()*30], 's_true' : [s_true.item()*30],\n",
    "                'p_pred' : [p_predicted_index.item()*0.01], 's_pred' : [s_predicted_index.item()*0.01],\n",
    "                'p_prob' : [p_prob.item()], 's_prob' : [s_prob.item()]\n",
    "            }))\n",
    "    \n",
    "    test_results_phasenet = pd.concat(test_results).reset_index(drop=True)\n",
    "    test_results_phasenet.to_csv(filename)\n",
    "    \n",
    "def evaluate_phasehunter(predictions_eq, predictions_noise, threshold, metric_type):\n",
    "    \"\"\"\n",
    "    Evaluate the model based on TP, FP, FN, TN values and compute metrics.\n",
    "    predictions_eq: DataFrame with earthquake predictions and uncertainties.\n",
    "    predictions_noise: DataFrame with noise predictions and uncertainties.\n",
    "    threshold: Uncertainty threshold to classify into positive and negative classes.\n",
    "    metric_type: 'mean_uncert', 'p_uncert', or 's_uncert' to decide which column to use for thresholding.\n",
    "    \n",
    "    Returns: A dictionary of evaluation metrics.\n",
    "    \"\"\"\n",
    "\n",
    "    # Define earthquake metrics\n",
    "    TP_eq = len(predictions_eq[predictions_eq[metric_type] < threshold])\n",
    "    FN_eq = len(predictions_eq[predictions_eq[metric_type] >= threshold])\n",
    "    \n",
    "    # Define noise metrics\n",
    "    FP_noise = len(predictions_noise[predictions_noise[metric_type] < threshold])\n",
    "    TN_noise = len(predictions_noise[predictions_noise[metric_type] >= threshold])\n",
    "\n",
    "    predictions_eq['p_MAE'] = np.abs(predictions_eq['p_true'] - predictions_eq['p_pred'])\n",
    "    predictions_eq['s_MAE'] = np.abs(predictions_eq['s_true'] - predictions_eq['s_pred'])\n",
    "    \n",
    "    # MAE and RMSE for p and s\n",
    "    p_MAE = predictions_eq[predictions_eq[metric_type] < threshold]['p_MAE'].mean()\n",
    "    s_MAE = predictions_eq[predictions_eq[metric_type] < threshold]['s_MAE'].mean()\n",
    "    p_RMSE = np.sqrt((predictions_eq[predictions_eq[metric_type] < threshold]['p_MAE'] ** 2).mean())\n",
    "    s_RMSE = np.sqrt((predictions_eq[predictions_eq[metric_type] < threshold]['s_MAE'] ** 2).mean())\n",
    "\n",
    "    # Compute metrics\n",
    "    accuracy = (TP_eq + TN_noise) / (TP_eq + TN_noise + FP_noise + FN_eq)\n",
    "    precision = TP_eq / (TP_eq + FP_noise) if TP_eq + FP_noise != 0 else 0\n",
    "    recall = TP_eq / (TP_eq + FN_eq) if TP_eq + FN_eq != 0 else 0\n",
    "    f1_score = 2 * (precision * recall) / (precision + recall) if precision + recall != 0 else 0\n",
    "    specificity = TN_noise / (TN_noise + FP_noise) if TN_noise + FP_noise != 0 else 0\n",
    "\n",
    "    return {\n",
    "        \"Accuracy\": '%.4f' % accuracy,\n",
    "        \"Precision\": '%.4f' % precision,\n",
    "        \"Recall\": '%.4f' % recall,\n",
    "        \"F1-Score\": '%.4f' % f1_score,\n",
    "        \"Specificity\": '%.4f' % specificity,\n",
    "        \"p_MAE\": '%.4f' % p_MAE,\n",
    "        \"s_MAE\": '%.4f' % s_MAE,\n",
    "        \"p_RMSE\": '%.4f' % p_RMSE,\n",
    "        \"s_RMSE\": '%.4f' % s_RMSE\n",
    "    }\n",
    "\n",
    "def evaluate_phasenet(predictions_eq, predictions_noise, threshold, metric_type):\n",
    "    \"\"\"\n",
    "    Evaluate the model based on TP, FP, FN, TN values and compute metrics.\n",
    "    predictions_eq: DataFrame with earthquake predictions and uncertainties.\n",
    "    predictions_noise: DataFrame with noise predictions and uncertainties.\n",
    "    threshold: Uncertainty threshold to classify into positive and negative classes.\n",
    "    metric_type: 'mean_uncert', 'p_uncert', or 's_uncert' to decide which column to use for thresholding.\n",
    "    \n",
    "    Returns: A dictionary of evaluation metrics.\n",
    "    \"\"\"\n",
    "\n",
    "    # Define earthquake metrics\n",
    "    TP_eq = len(predictions_eq[predictions_eq[metric_type] > threshold])\n",
    "    FN_eq = len(predictions_eq[predictions_eq[metric_type] <= threshold])\n",
    "    \n",
    "    # Define noise metrics\n",
    "    FP_noise = len(predictions_noise[predictions_noise[metric_type] > threshold])\n",
    "    TN_noise = len(predictions_noise[predictions_noise[metric_type] <= threshold])\n",
    "\n",
    "    predictions_eq['p_MAE'] = np.abs(predictions_eq['p_true'] - predictions_eq['p_pred'])\n",
    "    predictions_eq['s_MAE'] = np.abs(predictions_eq['s_true'] - predictions_eq['s_pred'])\n",
    "    \n",
    "    # MAE and RMSE for p and s\n",
    "    p_MAE = predictions_eq[predictions_eq[metric_type] > threshold]['p_MAE'].mean()\n",
    "    s_MAE = predictions_eq[predictions_eq[metric_type] > threshold]['s_MAE'].mean()\n",
    "    p_RMSE = np.sqrt((predictions_eq[predictions_eq[metric_type] > threshold]['p_MAE'] ** 2).mean())\n",
    "    s_RMSE = np.sqrt((predictions_eq[predictions_eq[metric_type] > threshold]['s_MAE'] ** 2).mean())\n",
    "\n",
    "    # Compute metrics\n",
    "    accuracy = (TP_eq + TN_noise) / (TP_eq + TN_noise + FP_noise + FN_eq)\n",
    "    precision = TP_eq / (TP_eq + FP_noise) if TP_eq + FP_noise != 0 else 0\n",
    "    recall = TP_eq / (TP_eq + FN_eq) if TP_eq + FN_eq != 0 else 0\n",
    "    f1_score = 2 * (precision * recall) / (precision + recall) if precision + recall != 0 else 0\n",
    "    specificity = TN_noise / (TN_noise + FP_noise) if TN_noise + FP_noise != 0 else 0\n",
    "\n",
    "    return {\n",
    "        \"Accuracy\": '%.4f' % accuracy,\n",
    "        \"Precision\": '%.4f' % precision,\n",
    "        \"Recall\": '%.4f' % recall,\n",
    "        \"F1-Score\": '%.4f' % f1_score,\n",
    "        \"Specificity\": '%.4f' % specificity,\n",
    "        \"p_MAE\": '%.4f' % p_MAE,\n",
    "        \"s_MAE\": '%.4f' % s_MAE,\n",
    "        \"p_RMSE\": '%.4f' % p_RMSE,\n",
    "        \"s_RMSE\": '%.4f' % s_RMSE\n",
    "    }\n"
   ]
  },
  {
   "cell_type": "markdown",
   "id": "2403bf8b-41d9-439e-8728-99ca8f36c207",
   "metadata": {},
   "source": [
    "# STEAD"
   ]
  },
  {
   "cell_type": "markdown",
   "id": "578e6b81-2ac5-4f3d-aef9-f89c86eaa1eb",
   "metadata": {},
   "source": [
    "### Load data"
   ]
  },
  {
   "cell_type": "code",
   "execution_count": 6,
   "id": "ffd15555-8901-4a7f-8c8e-395559499615",
   "metadata": {},
   "outputs": [
    {
     "name": "stderr",
     "output_type": "stream",
     "text": [
      "[rank: 0] Global seed set to 42\n",
      "/tmp/ipykernel_66718/584206807.py:8: DtypeWarning: Columns (27) have mixed types. Specify dtype option on import or set low_memory=False.\n",
      "  df = pd.read_csv('Seisbench_DATA/stead_mem.csv')\n"
     ]
    }
   ],
   "source": [
    "df = pd.read_csv('Seisbench_DATA/stead_mem.csv')\n",
    "df_noise = pd.read_csv('Seisbench_DATA/stead_mem_noise.csv')\n",
    "\n",
    "data = np.memmap('Seisbench_DATA/stead.dat', dtype='float32', mode='r', shape=(len(df), 3, 9000))\n",
    "noise = np.memmap('Seisbench_DATA/stead_noise.dat', dtype='float32', mode='r', shape=(len(df_noise), 3, 9000))\n",
    "\n",
    "augmentations = Augmentations(padding=120, crop_length=3000)"
   ]
  },
  {
   "cell_type": "code",
   "execution_count": 288,
   "id": "243bd70f-9fce-4473-80f0-05a2dc8d3497",
   "metadata": {},
   "outputs": [],
   "source": [
    "# Get the unique source IDs\n",
    "unique_source_ids = df['source_id'].unique()\n",
    "\n",
    "# Split unique source IDs into train, val, and test sets\n",
    "train_size = int(0.8 * len(unique_source_ids))\n",
    "val_size = int(0.1 * len(unique_source_ids))\n",
    "\n",
    "test_ids = unique_source_ids[train_size + val_size:]\n",
    "test_mask = df['source_id'].isin(test_ids)\n",
    "\n",
    "df_test = df[test_mask][['trace_P_final','trace_S_final']].fillna(0)\n",
    "\n",
    "test_dataset = Waveforms_dataset(meta=df_test, data=data, test=True, transform=True, augmentations=augmentations)\n",
    "test_loader = DataLoader(test_dataset, shuffle=False, num_workers=2, batch_size=1, pin_memory=True, drop_last=True)\n",
    "\n",
    "df_noise = df_noise.sample(n=60000, random_state=42)[['trace_P_final','trace_S_final']].fillna(0) \n",
    "\n",
    "noise_dataset = Waveforms_dataset(meta=df_noise, data=noise, test=True, transform=True, augmentations=augmentations)\n",
    "noise_loader = DataLoader(noise_dataset, shuffle=False, num_workers=2, batch_size=1, pin_memory=True, drop_last=True)"
   ]
  },
  {
   "cell_type": "markdown",
   "id": "0af444a5-efbb-4940-8974-d38193109097",
   "metadata": {},
   "source": [
    "## PhaseHunter"
   ]
  },
  {
   "cell_type": "code",
   "execution_count": 290,
   "id": "bf046baf-25f7-4051-9ac9-c3b74dce87aa",
   "metadata": {},
   "outputs": [
    {
     "name": "stderr",
     "output_type": "stream",
     "text": [
      "/scratch/users/anovosel/miniconda3/envs/phasehunter/lib/python3.10/site-packages/torch/nn/modules/lazy.py:180: UserWarning: Lazy modules are a new feature under heavy development so changes to the API or functionality can happen at any moment.\n",
      "  warnings.warn('Lazy modules are a new feature under heavy development '\n"
     ]
    }
   ],
   "source": [
    "model = PhaseHunter(n_masks=128, n_outs=2).load_from_checkpoint('ckpts/30s_STEAD_decay-epoch=96.ckpt')\n",
    "model = model.eval().cuda()"
   ]
  },
  {
   "cell_type": "markdown",
   "id": "1745d399-f989-46b5-8bc2-2075d65b6e30",
   "metadata": {},
   "source": [
    "### Make predictions"
   ]
  },
  {
   "cell_type": "code",
   "execution_count": 291,
   "id": "088e71ff-d049-4da8-ae63-83cecac3d2d7",
   "metadata": {},
   "outputs": [
    {
     "data": {
      "application/vnd.jupyter.widget-view+json": {
       "model_id": "3f9484757b364b9d83a5678ef4e5e984",
       "version_major": 2,
       "version_minor": 0
      },
      "text/plain": [
       "  0%|          | 0/60000 [00:00<?, ?it/s]"
      ]
     },
     "metadata": {},
     "output_type": "display_data"
    }
   ],
   "source": [
    "\n",
    "# make_predictions_phasehunter(model, test_loader, filename='PhaseHunter_STEAD_test_ckpt1.csv')\n",
    "make_predictions_phasehunter(model, noise_loader, filename='PhaseHunter_STEAD_noise_ckpt1.csv')"
   ]
  },
  {
   "cell_type": "markdown",
   "id": "4b56615a-0c6e-4886-91f9-e13b47268df6",
   "metadata": {},
   "source": [
    "### Evaluate"
   ]
  },
  {
   "cell_type": "code",
   "execution_count": 292,
   "id": "920ecc44-e558-4686-8f90-698dd932c1c2",
   "metadata": {},
   "outputs": [],
   "source": [
    "test_results_phasehunter_eqs = pd.read_csv('PhaseHunter_STEAD_test_ckpt1.csv')\n",
    "test_results_phasehunter_noise = pd.read_csv('PhaseHunter_STEAD_noise_ckpt1.csv')\n",
    "\n",
    "test_results_phasehunter_eqs = test_results_phasehunter_eqs[(test_results_phasehunter_eqs['s_true'] != 0)]"
   ]
  },
  {
   "cell_type": "code",
   "execution_count": 330,
   "id": "bfa95b01-741e-46aa-b156-da4ebce7926f",
   "metadata": {},
   "outputs": [
    {
     "name": "stdout",
     "output_type": "stream",
     "text": [
      "PhaseHunter\n",
      "Metrics using mean_uncert: {'Accuracy': '0.9674', 'Precision': '0.9958', 'Recall': '0.9386', 'F1-Score': '0.9663', 'Specificity': '0.9961', 'p_MAE': '0.0452', 's_MAE': '0.0884', 'p_RMSE': '0.1011', 's_RMSE': '0.1551'}\n",
      "Metrics using p_uncert: {'Accuracy': '0.9678', 'Precision': '0.9677', 'Recall': '0.9678', 'F1-Score': '0.9677', 'Specificity': '0.9679', 'p_MAE': '0.0460', 's_MAE': '0.1048', 'p_RMSE': '0.1024', 's_RMSE': '0.2847'}\n",
      "Metrics using s_uncert: {'Accuracy': '0.9521', 'Precision': '0.9879', 'Recall': '0.9151', 'F1-Score': '0.9501', 'Specificity': '0.9889', 'p_MAE': '0.0480', 's_MAE': '0.0834', 'p_RMSE': '0.1265', 's_RMSE': '0.1547'}\n"
     ]
    }
   ],
   "source": [
    "threshold_uncert = 0.0827\n",
    "\n",
    "test_results_phasehunter_eqs['mean_uncert'] = (test_results_phasehunter_eqs['p_uncert'] + test_results_phasehunter_eqs['s_uncert'])/2\n",
    "test_results_phasehunter_noise['mean_uncert'] = (test_results_phasehunter_noise['p_uncert'] + test_results_phasehunter_noise['s_uncert'])/2\n",
    "\n",
    "# Sample Usage:\n",
    "metrics_mean = evaluate_phasehunter(test_results_phasehunter_eqs, test_results_phasehunter_noise, threshold_uncert, 'mean_uncert')\n",
    "metrics_p = evaluate_phasehunter(test_results_phasehunter_eqs, test_results_phasehunter_noise, threshold_uncert, 'p_uncert')\n",
    "metrics_s = evaluate_phasehunter(test_results_phasehunter_eqs, test_results_phasehunter_noise, threshold_uncert, 's_uncert')\n",
    "\n",
    "print('PhaseHunter')\n",
    "print(\"Metrics using mean_uncert:\", metrics_mean)\n",
    "print(\"Metrics using p_uncert:\", metrics_p)\n",
    "print(\"Metrics using s_uncert:\", metrics_s)"
   ]
  },
  {
   "cell_type": "markdown",
   "id": "9c3bad14-e76e-4aca-aabc-3c97713b3a24",
   "metadata": {
    "jp-MarkdownHeadingCollapsed": true
   },
   "source": [
    "### Evaluate Uncertainty"
   ]
  },
  {
   "cell_type": "code",
   "execution_count": 462,
   "id": "f28e229e-4b14-487c-a38b-c82e2e891c15",
   "metadata": {},
   "outputs": [
    {
     "data": {
      "image/png": "[encoded data removed]",
      "text/plain": [
       "<Figure size 1000x700 with 1 Axes>"
      ]
     },
     "metadata": {},
     "output_type": "display_data"
    }
   ],
   "source": [
    "import numpy as np\n",
    "import seaborn as sns\n",
    "\n",
    "test_filt = test_results_phasehunter_eqs[(test_results_phasehunter_eqs.p_MAE <= 1) & (test_results_phasehunter_eqs.s_MAE <= 1)]\n",
    "\n",
    "# Computing mean and standard deviation for each bin\n",
    "bins = np.linspace(0, 0.5, 10)\n",
    "bin_centers = 0.5 * (bins[:-1] + bins[1:])\n",
    "\n",
    "p_bin_means = np.array([test_filt[\"p_MAE\"][np.logical_and(test_filt[\"p_uncert\"] > left, test_filt[\"p_uncert\"] <= right)].mean() for left, right in zip(bins[:-1], bins[1:])])\n",
    "p_bin_std = np.array([test_filt[\"p_MAE\"][np.logical_and(test_filt[\"p_uncert\"] > left, test_filt[\"p_uncert\"] <= right)].std() for left, right in zip(bins[:-1], bins[1:])])\n",
    "\n",
    "s_bin_means = np.array([test_filt[\"s_MAE\"][np.logical_and(test_filt[\"s_uncert\"] > left, test_filt[\"s_uncert\"] <= right)].mean() for left, right in zip(bins[:-1], bins[1:])])\n",
    "s_bin_std = np.array([test_filt[\"s_MAE\"][np.logical_and(test_filt[\"s_uncert\"] > left, test_filt[\"s_uncert\"] <= right)].std() for left, right in zip(bins[:-1], bins[1:])])\n",
    "\n",
    "plt.figure(figsize=(10, 7))  # Increase plot size for better visualization\n",
    "plt.errorbar(bin_centers, p_bin_means, yerr=p_bin_std, fmt='o', markersize=8, capsize=3, capthick=1, elinewidth=1.2, color='red', alpha=0.6, label='P picks')\n",
    "plt.errorbar(bin_centers, s_bin_means, yerr=s_bin_std, fmt='s', markersize=8, capsize=3, capthick=1, elinewidth=1.2, color='blue', alpha=0.6, label='S picks')\n",
    "plt.xlabel('Predicted Uncertainty', fontsize=14)\n",
    "plt.ylabel('Mean Absolute Error', fontsize=14)\n",
    "plt.title('Mean Error with Standard Deviation across Uncertainty Bins', fontsize=16)\n",
    "plt.grid(which='both', linestyle='--', linewidth=0.5, alpha=0.6)\n",
    "plt.legend(loc='upper left')  # Adjust location as needed\n",
    "plt.ylim([0, max(max(p_bin_means + p_bin_std), max(s_bin_means + s_bin_std)) + 0.05])  # Adjust Y-axis limits\n",
    "plt.tight_layout()  # Ensure no parts of the graph are cut off\n",
    "plt.savefig('Calibration_plot.pdf')"
   ]
  },
  {
   "cell_type": "markdown",
   "id": "7e2f15ae-33d0-48d3-95ad-604d36e9cca1",
   "metadata": {},
   "source": [
    "## PhaseNet"
   ]
  },
  {
   "cell_type": "markdown",
   "id": "3818cc3f-d6c9-45ef-a70a-91f271686f8f",
   "metadata": {},
   "source": [
    "### Make predictions"
   ]
  },
  {
   "cell_type": "code",
   "execution_count": 297,
   "id": "8fcd24e4-fa90-49b8-be56-5d32ea602263",
   "metadata": {},
   "outputs": [
    {
     "data": {
      "application/vnd.jupyter.widget-view+json": {
       "model_id": "5c18f8351b7641338833c6904773708a",
       "version_major": 2,
       "version_minor": 0
      },
      "text/plain": [
       "  0%|          | 0/60000 [00:00<?, ?it/s]"
      ]
     },
     "metadata": {},
     "output_type": "display_data"
    }
   ],
   "source": [
    "import seisbench.models as sbm\n",
    "\n",
    "phasenet = sbm.PhaseNet()\n",
    "phasenet = phasenet.from_pretrained('stead')\n",
    "phasenet.eval()  # Set model to evaluation mode\n",
    "\n",
    "# make_predictions_phasenet(phasenet, test_loader, filename='PhaseNET_STEAD_test_seisbench.csv')\n",
    "make_predictions_phasenet(phasenet, noise_loader, filename='PhaseNET_STEAD_noise_seisbench.csv')"
   ]
  },
  {
   "cell_type": "markdown",
   "id": "44ba36e2-60bf-47e8-a9d3-e97d759eeb53",
   "metadata": {},
   "source": [
    "### Evaluate"
   ]
  },
  {
   "cell_type": "code",
   "execution_count": 298,
   "id": "767ead63-400e-4219-b7d8-0e147714bf6d",
   "metadata": {},
   "outputs": [],
   "source": [
    "test_results_phasenet_eqs = pd.read_csv('PhaseNET_STEAD_test_seisbench.csv')\n",
    "test_results_phasenet_noise = pd.read_csv('PhaseNET_STEAD_noise_seisbench.csv')\n",
    "\n",
    "test_results_phasenet_eqs = test_results_phasenet_eqs[(test_results_phasenet_eqs['s_true'] != 0)]"
   ]
  },
  {
   "cell_type": "code",
   "execution_count": 303,
   "id": "954e7318-72e8-4408-870b-24c04431d2d4",
   "metadata": {
    "collapsed": true,
    "jupyter": {
     "outputs_hidden": true
    }
   },
   "outputs": [
    {
     "name": "stdout",
     "output_type": "stream",
     "text": [
      "PhaseNet\n",
      "Metrics using mean_prob: {'Accuracy': '0.9808', 'Precision': '0.9866', 'Recall': '0.9747', 'F1-Score': '0.9806', 'Specificity': '0.9869', 'p_MAE': '0.1741', 's_MAE': '0.1131', 'p_RMSE': '0.4707', 's_RMSE': '0.3528'}\n",
      "Metrics using p_prob: {'Accuracy': '0.9646', 'Precision': '0.9643', 'Recall': '0.9647', 'F1-Score': '0.9645', 'Specificity': '0.9645', 'p_MAE': '0.1584', 's_MAE': '0.1604', 'p_RMSE': '0.4000', 's_RMSE': '0.9677'}\n",
      "Metrics using s_prob: {'Accuracy': '0.9734', 'Precision': '0.9835', 'Recall': '0.9627', 'F1-Score': '0.9730', 'Specificity': '0.9839', 'p_MAE': '0.1836', 's_MAE': '0.1055', 'p_RMSE': '0.5219', 's_RMSE': '0.3174'}\n"
     ]
    }
   ],
   "source": [
    "threshold_prob = 0.5\n",
    "\n",
    "test_results_phasenet_eqs['mean_prob'] = (test_results_phasenet_eqs['p_prob']+test_results_phasenet_eqs['s_prob'])/2\n",
    "test_results_phasenet_noise['mean_prob'] = (test_results_phasenet_noise['p_prob']+test_results_phasenet_noise['s_prob'])/2\n",
    "\n",
    "metrics_mean = evaluate_phasenet(test_results_phasenet_eqs, test_results_phasenet_noise, threshold_prob, 'mean_prob')\n",
    "metrics_p = evaluate_phasenet(test_results_phasenet_eqs, test_results_phasenet_noise, threshold_prob, 'p_prob')\n",
    "metrics_s = evaluate_phasenet(test_results_phasenet_eqs, test_results_phasenet_noise, threshold_prob, 's_prob')\n",
    "\n",
    "print('PhaseNet')\n",
    "print(\"Metrics using mean_prob:\", metrics_mean)\n",
    "print(\"Metrics using p_prob:\", metrics_p)\n",
    "print(\"Metrics using s_prob:\", metrics_s)"
   ]
  },
  {
   "cell_type": "markdown",
   "id": "319195d5-8ddc-4975-bf26-d18b806d1474",
   "metadata": {},
   "source": [
    "# ETHZ"
   ]
  },
  {
   "cell_type": "code",
   "execution_count": 8,
   "id": "66458d4d-5f65-43ab-b58c-fdae5dd59bd4",
   "metadata": {},
   "outputs": [],
   "source": [
    "df = pd.read_csv('Seisbench_DATA/ethz_mem.csv')#[['trace_P_final','trace_S_final']].fillna(0)\n",
    "data = np.memmap('Seisbench_DATA/ethz.dat', dtype='float32', mode='r', shape=(len(df), 3, 6000))\n",
    "\n",
    "augmentations = Augmentations(padding=120, crop_length=3000)\n",
    "\n",
    "# Get the unique source IDs\n",
    "unique_source_ids = df['source_id'].unique()\n",
    "\n",
    "# Split unique source IDs into train, val, and test sets\n",
    "train_size = int(0.8 * len(unique_source_ids))\n",
    "val_size = int(0.1 * len(unique_source_ids))\n",
    "\n",
    "test_ids = unique_source_ids[train_size + val_size:]\n",
    "unique_source_ids_train_val = unique_source_ids[:train_size + val_size]\n",
    "\n",
    "# Shuffle the unique source IDs\n",
    "np.random.shuffle(unique_source_ids_train_val)\n",
    "\n",
    "test_mask = df['source_id'].isin(test_ids)\n",
    "df_test = df[test_mask]#[['trace_P_final','trace_S_final']].fillna(0)\n",
    "\n",
    "test_dataset = Waveforms_dataset(meta=df_test, data=data, test=True, transform=True, augmentations=augmentations)\n",
    "test_loader = DataLoader(test_dataset, shuffle=False, num_workers=2, batch_size=1, pin_memory=True, drop_last=True)\n"
   ]
  },
  {
   "cell_type": "markdown",
   "id": "20737114-b4d8-4b11-bda6-d4ca9d1e8438",
   "metadata": {},
   "source": [
    "### PhaseHunter"
   ]
  },
  {
   "cell_type": "code",
   "execution_count": 9,
   "id": "1b32dcc8-26bc-44f9-8914-8addac55f767",
   "metadata": {},
   "outputs": [
    {
     "name": "stderr",
     "output_type": "stream",
     "text": [
      "/scratch/users/anovosel/miniconda3/envs/phasehunter/lib/python3.10/site-packages/torch/nn/modules/lazy.py:180: UserWarning: Lazy modules are a new feature under heavy development so changes to the API or functionality can happen at any moment.\n",
      "  warnings.warn('Lazy modules are a new feature under heavy development '\n"
     ]
    }
   ],
   "source": [
    "from PhaseHunter.model import PhaseHunter\n",
    "from PhaseHunter.dataloader import Augmentations, Waveforms_dataset\n",
    "\n",
    "model = PhaseHunter(n_masks=128, n_outs=2).load_from_checkpoint('ckpts/30s_ETHZ_decay-epoch=187-v1.ckpt')\n",
    "model = model.eval().cuda()"
   ]
  },
  {
   "cell_type": "code",
   "execution_count": 10,
   "id": "d2db872b-74cd-4c2b-af82-76ab33df229a",
   "metadata": {},
   "outputs": [
    {
     "data": {
      "application/vnd.jupyter.widget-view+json": {
       "model_id": "b68077948f4b4b9ea9c8b98414314d75",
       "version_major": 2,
       "version_minor": 0
      },
      "text/plain": [
       "  0%|          | 0/2139 [00:00<?, ?it/s]"
      ]
     },
     "metadata": {},
     "output_type": "display_data"
    }
   ],
   "source": [
    "make_predictions_phasehunter(model, test_loader, filename='PhaseHunter_ETHZ_test.csv')"
   ]
  },
  {
   "cell_type": "code",
   "execution_count": 16,
   "id": "a1132778-b264-4133-bf11-2ec8282a1900",
   "metadata": {},
   "outputs": [],
   "source": [
    "test_results_phasehunter_eqs = pd.read_csv('PhaseHunter_ETHZ_test.csv')\n",
    "test_results_phasehunter_noise  = pd.DataFrame(columns=test_results_phasehunter_eqs.columns)\n",
    "\n",
    "test_results_phasehunter_eqs = test_results_phasehunter_eqs[(test_results_phasehunter_eqs['s_true'] != 0)]"
   ]
  },
  {
   "cell_type": "code",
   "execution_count": 27,
   "id": "c78537cb-da8d-4f39-a978-e36b281b8eb4",
   "metadata": {},
   "outputs": [
    {
     "name": "stdout",
     "output_type": "stream",
     "text": [
      "PhaseHunter\n",
      "Metrics using mean_uncert: {'Accuracy': '0.9711', 'Precision': '1.0000', 'Recall': '0.9711', 'F1-Score': '0.9853', 'Specificity': '0.0000', 'p_MAE': '0.0248', 's_MAE': '0.0477', 'p_RMSE': '0.0561', 's_RMSE': '0.0934'}\n"
     ]
    }
   ],
   "source": [
    "threshold_uncert = 0.1\n",
    "\n",
    "test_results_phasehunter_eqs['mean_uncert'] = (test_results_phasehunter_eqs['p_uncert'] + test_results_phasehunter_eqs['s_uncert'])/2\n",
    "test_results_phasehunter_noise['mean_uncert'] = (test_results_phasehunter_noise['p_uncert'] + test_results_phasehunter_noise['s_uncert'])/2\n",
    "\n",
    "# Sample Usage:\n",
    "metrics_mean = evaluate_phasehunter(test_results_phasehunter_eqs, test_results_phasehunter_noise, threshold_uncert, 'mean_uncert')\n",
    "metrics_p = evaluate_phasehunter(test_results_phasehunter_eqs, test_results_phasehunter_noise, threshold_uncert, 'p_uncert')\n",
    "metrics_s = evaluate_phasehunter(test_results_phasehunter_eqs, test_results_phasehunter_noise, threshold_uncert, 's_uncert')\n",
    "\n",
    "print('PhaseHunter')\n",
    "print(\"Metrics using mean_uncert:\", metrics_mean)"
   ]
  },
  {
   "cell_type": "markdown",
   "id": "1f83dc93-6e49-4b2a-8220-0890fb31aec3",
   "metadata": {},
   "source": [
    "### PhaseNet"
   ]
  },
  {
   "cell_type": "code",
   "execution_count": 32,
   "id": "3993f1a6-93a6-4ecb-be08-5fd9e9c11433",
   "metadata": {},
   "outputs": [
    {
     "data": {
      "application/vnd.jupyter.widget-view+json": {
       "model_id": "b844464b0bd54c589e46afc041e168ec",
       "version_major": 2,
       "version_minor": 0
      },
      "text/plain": [
       "  0%|          | 0/2139 [00:00<?, ?it/s]"
      ]
     },
     "metadata": {},
     "output_type": "display_data"
    }
   ],
   "source": [
    "import seisbench.models as sbm\n",
    "\n",
    "phasenet = sbm.PhaseNet()\n",
    "phasenet = phasenet.from_pretrained('ethz')\n",
    "phasenet.eval()  # Set model to evaluation mode\n",
    "\n",
    "make_predictions_phasenet(phasenet, test_loader, filename='PhaseNET_ETHZ_test.csv')"
   ]
  },
  {
   "cell_type": "code",
   "execution_count": 34,
   "id": "7bcbe4ff-4fbc-4d11-ab2c-67d8c590fefd",
   "metadata": {},
   "outputs": [],
   "source": [
    "test_results_phasenet_eqs = pd.read_csv('PhaseNET_ETHZ_test.csv')\n",
    "test_results_phasenet_noise = pd.DataFrame(columns=test_results_phasenet_eqs.columns)\n",
    "\n",
    "test_results_phasenet_eqs = test_results_phasenet_eqs[(test_results_phasenet_eqs['s_true'] != 0)]"
   ]
  },
  {
   "cell_type": "code",
   "execution_count": 35,
   "id": "83a9d7cb-c655-48d1-a023-0c7b5e6e7c59",
   "metadata": {},
   "outputs": [
    {
     "name": "stdout",
     "output_type": "stream",
     "text": [
      "PhaseNet\n",
      "Metrics using mean_prob: {'Accuracy': '0.9353', 'Precision': '1.0000', 'Recall': '0.9353', 'F1-Score': '0.9665', 'Specificity': '0.0000', 'p_MAE': '0.0874', 's_MAE': '0.0634', 'p_RMSE': '0.1965', 's_RMSE': '0.1046'}\n",
      "Metrics using p_prob: {'Accuracy': '0.9573', 'Precision': '1.0000', 'Recall': '0.9573', 'F1-Score': '0.9782', 'Specificity': '0.0000', 'p_MAE': '0.0967', 's_MAE': '0.1196', 'p_RMSE': '0.2176', 's_RMSE': '0.6747'}\n",
      "Metrics using s_prob: {'Accuracy': '0.8402', 'Precision': '1.0000', 'Recall': '0.8402', 'F1-Score': '0.9132', 'Specificity': '0.0000', 'p_MAE': '0.0913', 's_MAE': '0.0553', 'p_RMSE': '0.2307', 's_RMSE': '0.0758'}\n"
     ]
    }
   ],
   "source": [
    "threshold_prob = 0.5\n",
    "\n",
    "test_results_phasenet_eqs['mean_prob'] = (test_results_phasenet_eqs['p_prob']+test_results_phasenet_eqs['s_prob'])/2\n",
    "test_results_phasenet_noise['mean_prob'] = (test_results_phasenet_noise['p_prob']+test_results_phasenet_noise['s_prob'])/2\n",
    "\n",
    "metrics_mean = evaluate_phasenet(test_results_phasenet_eqs, test_results_phasenet_noise, threshold_prob, 'mean_prob')\n",
    "metrics_p = evaluate_phasenet(test_results_phasenet_eqs, test_results_phasenet_noise, threshold_prob, 'p_prob')\n",
    "metrics_s = evaluate_phasenet(test_results_phasenet_eqs, test_results_phasenet_noise, threshold_prob, 's_prob')\n",
    "\n",
    "print('PhaseNet')\n",
    "print(\"Metrics using mean_prob:\", metrics_mean)\n",
    "print(\"Metrics using p_prob:\", metrics_p)\n",
    "print(\"Metrics using s_prob:\", metrics_s)"
   ]
  }
 ],
 "metadata": {
  "kernelspec": {
   "display_name": "Python 3 (ipykernel)",
   "language": "python",
   "name": "python3"
  },
  "language_info": {
   "codemirror_mode": {
    "name": "ipython",
    "version": 3
   },
   "file_extension": ".py",
   "mimetype": "text/x-python",
   "name": "python",
   "nbconvert_exporter": "python",
   "pygments_lexer": "ipython3",
   "version": "3.10.0"
  }
 },
 "nbformat": 4,
 "nbformat_minor": 5
}
