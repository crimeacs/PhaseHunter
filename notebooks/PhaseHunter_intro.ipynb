{
 "cells": [
  {
   "cell_type": "markdown",
   "id": "d5b87c0b-327b-43ab-87c3-dd68f68c5610",
   "metadata": {},
   "source": [
    "## Install dependencies"
   ]
  },
  {
   "cell_type": "markdown",
   "id": "42c7ac98-a28f-4a29-898d-5bb72caea978",
   "metadata": {},
   "source": [
    "Make sure to use GPU \n",
    "`Runtime` -> `Change Runtime Type`"
   ]
  },
  {
   "cell_type": "code",
   "execution_count": null,
   "id": "85cbb0cc-be44-4a9c-a06d-0c155b4daef6",
   "metadata": {
    "tags": []
   },
   "outputs": [],
   "source": [
    "# Install dependancies\n",
    "!pip install numpy pandas scikit-learn scipy tqdm\n",
    "!pip install obspy pytorch-lightning lightning wandb\n",
    "!pip install git+https://github.com/nikitadurasov/masksembles\n",
    "!pip install git+https://github.com/crimeacs/PhaseHunter"
   ]
  },
  {
   "cell_type": "code",
   "execution_count": null,
   "id": "1d64972c-f595-498b-9fc3-f8bd464e26f3",
   "metadata": {},
   "outputs": [],
   "source": [
    "# Clone repo\n",
    "!git clone https://github.com/crimeacs/PhaseHunter"
   ]
  },
  {
   "cell_type": "code",
   "execution_count": null,
   "id": "99331dba-b280-479c-baad-d05d5f486af0",
   "metadata": {},
   "outputs": [],
   "source": [
    "# Due to a bag Colab x ObsPy we need to restart runtime, simply continue after that cell\n",
    "import os\n",
    "os.kill(os.getpid(), 9)"
   ]
  },
  {
   "cell_type": "markdown",
   "id": "0176ab34-5f63-40e1-86ba-9caab01f4df8",
   "metadata": {},
   "source": [
    "## Load model"
   ]
  },
  {
   "cell_type": "code",
   "execution_count": null,
   "id": "c0ffcacc-a310-47c6-bdd8-997c054023ea",
   "metadata": {
    "tags": []
   },
   "outputs": [],
   "source": [
    "import torch\n",
    "from phasehunter.model import PhaseHunter\n",
    "from phasehunter.dataloader import Augmentations, Waveforms_dataset\n",
    "\n",
    "# Auto select device, note that PhaseHunter works best on GPU\n",
    "device = torch.device(\"cuda\" if torch.cuda.is_available() else \"cpu\") # Linux\n",
    "# device = torch.device(\"mps\") # Mac\n",
    "\n",
    "model = PhaseHunter.load_from_checkpoint('PhaseHunter/ckpts/30s_STEAD_decay-epoch=196.ckpt')\n",
    "model = model.eval().float().to(device)"
   ]
  },
  {
   "cell_type": "markdown",
   "id": "413d6b90-e258-488e-9dd2-b2c6f5089a2a",
   "metadata": {},
   "source": [
    "## Download some data"
   ]
  },
  {
   "cell_type": "code",
   "execution_count": null,
   "id": "1a10716b-e058-4d27-904a-b1bf2b065a18",
   "metadata": {
    "tags": []
   },
   "outputs": [],
   "source": [
    "import obspy\n",
    "from obspy.clients.fdsn import Client as FDSN_Client\n",
    "\n",
    "# Connect to the FDSN client (in this case USGS)\n",
    "client = FDSN_Client(\"SCEDC\")\n",
    "\n",
    "# Get the Ridgecrest earthquake from USGS ComCat\n",
    "t1 = obspy.UTCDateTime(\"2019-07-04T00:00:00\")\n",
    "t2 = obspy.UTCDateTime(\"2019-07-05T00:00:00\")\n",
    "\n",
    "cat = client.get_events(starttime=t1, endtime=t2, minmagnitude=5, minlatitude=35, maxlatitude=36, minlongitude=-118, maxlongitude=-117, includearrivals=True)\n",
    "event = cat[0]\n",
    "\n",
    "# Get origin time of the event\n",
    "origin_time = event.origins[0].time\n",
    "\n",
    "# Define start and end time for the waveform retrieval\n",
    "starttime = origin_time + 5  # Some seconds after the event\n",
    "endtime = starttime + 30  # Total 30 seconds of data\n",
    "\n",
    "# Network and station information\n",
    "net = \"CI\"\n",
    "sta = \"WBS\"\n",
    "\n",
    "# Get the three-component data\n",
    "st = client.get_waveforms(network=net, station=sta, location=\"*\", channel=\"BH?\", starttime=starttime, endtime=endtime)\n",
    "\n",
    "station_picks = []\n",
    "# Fetch the P and S picks\n",
    "for pick in event.picks:\n",
    "    if pick.waveform_id.station_code == sta:\n",
    "        station_picks.append(pick)\n",
    "\n",
    "# Make sure that sampling rate is 100Hz\n",
    "st.resample(100);\n",
    "# Plot the data\n",
    "st.plot();"
   ]
  },
  {
   "cell_type": "markdown",
   "id": "71329d2e-ea72-4cec-b962-bf000f05b072",
   "metadata": {},
   "source": [
    "## How to use PhaseHunter"
   ]
  },
  {
   "cell_type": "code",
   "execution_count": null,
   "id": "5cee8341-1a61-4616-ba7a-ccea5fdf8922",
   "metadata": {
    "tags": []
   },
   "outputs": [],
   "source": [
    "predictions = model.process_continuous_waveform(st)\n",
    "predictions"
   ]
  },
  {
   "cell_type": "markdown",
   "id": "e02d84a6-7694-42d1-859c-e29d48c8965d",
   "metadata": {},
   "source": [
    "## How to use PhaseHunter (advanced)"
   ]
  },
  {
   "cell_type": "code",
   "execution_count": null,
   "id": "6921ab2c-95bc-43f7-893e-f0aa20029fe2",
   "metadata": {
    "tags": []
   },
   "outputs": [],
   "source": [
    "import torch\n",
    "import numpy as np\n",
    "import matplotlib.pyplot as plt\n",
    "\n",
    "# Convert stream into torch tensor\n",
    "input_data = np.vstack([x.data for x in st])\n",
    "\n",
    "# Preprocess data\n",
    "demean_data = Augmentations().demean(input_data)\n",
    "normalized_data = Augmentations().normalize(demean_data)\n",
    "\n",
    "# Make sure that segment is 30s\n",
    "cropped_data = normalized_data[:,:3000]\n",
    "\n",
    "# Convert to tensor\n",
    "tensor_data = torch.tensor(cropped_data, dtype=torch.float32)\n",
    "\n",
    "# Now, for uncertainty estimation we need to create a batched copy of the input\n",
    "inference_sample = torch.stack([tensor_data]*128).to(device)\n",
    "\n",
    "# Make predictions\n",
    "predictions, embeddings = model(inference_sample)\n",
    "\n",
    "# Post process predictions\n",
    "p_pred = predictions[:,0].detach().cpu()\n",
    "s_pred = predictions[:,1].detach().cpu()\n",
    "embeddings = torch.mean(embeddings, axis=0).detach().cpu().numpy()\n",
    "\n",
    "# Estimate uncertainty and get the most likely values \n",
    "p_dist, p_kde, p_val, p_uncert = model.get_likely_val(p_pred)\n",
    "s_dist, s_kde, s_val, s_uncert = model.get_likely_val(s_pred)\n",
    "\n",
    "# Plot results\n",
    "fig, ax = plt.subplots(nrows=2, figsize=(10,5), sharex=True)\n",
    "\n",
    "ax[0].plot(cropped_data[0], lw=0.7, color='black')\n",
    "ax[0].axvline(p_val.item()*cropped_data.shape[-1], color='red', label='P pick')\n",
    "ax[0].axvline(s_val.item()*cropped_data.shape[-1], color='blue', label='S pick')\n",
    "ax[0].set_ylabel('Amplitude')\n",
    "\n",
    "ax[1].plot(p_dist*cropped_data.shape[-1], p_kde(p_dist)*cropped_data.shape[-1], color='red')\n",
    "ax[1].plot(s_dist*cropped_data.shape[-1], s_kde(s_dist)*cropped_data.shape[-1], color='blue')\n",
    "ax[1].set_yticks([])\n",
    "ax[1].set_ylabel('Pick uncertainties')\n",
    "\n",
    "plt.subplots_adjust(hspace=0)"
   ]
  }
 ],
 "metadata": {
  "kernelspec": {
   "display_name": "Python 3 (ipykernel)",
   "language": "python",
   "name": "python3"
  },
  "language_info": {
   "codemirror_mode": {
    "name": "ipython",
    "version": 3
   },
   "file_extension": ".py",
   "mimetype": "text/x-python",
   "name": "python",
   "nbconvert_exporter": "python",
   "pygments_lexer": "ipython3",
   "version": "3.10.13"
  }
 },
 "nbformat": 4,
 "nbformat_minor": 5
}
